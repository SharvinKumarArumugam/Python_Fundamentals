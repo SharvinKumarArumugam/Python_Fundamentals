{
  "nbformat": 4,
  "nbformat_minor": 0,
  "metadata": {
    "colab": {
      "provenance": []
    },
    "kernelspec": {
      "name": "python3",
      "display_name": "Python 3"
    },
    "language_info": {
      "name": "python"
    }
  },
  "cells": [
    {
      "cell_type": "code",
      "execution_count": 2,
      "metadata": {
        "colab": {
          "base_uri": "https://localhost:8080/"
        },
        "id": "-e3gIokUe3Xq",
        "outputId": "147651f8-254a-42af-ba13-173893c25f7d"
      },
      "outputs": [
        {
          "output_type": "stream",
          "name": "stdout",
          "text": [
            "Hello World!\n"
          ]
        }
      ],
      "source": [
        "print('Hello World!')"
      ]
    },
    {
      "cell_type": "code",
      "source": [
        "x = 20\n",
        "print(x + 33)"
      ],
      "metadata": {
        "colab": {
          "base_uri": "https://localhost:8080/"
        },
        "id": "35ral3JGfM0d",
        "outputId": "0364e294-add7-4ad6-dec7-7a303659ef4c"
      },
      "execution_count": 3,
      "outputs": [
        {
          "output_type": "stream",
          "name": "stdout",
          "text": [
            "53\n"
          ]
        }
      ]
    },
    {
      "cell_type": "code",
      "source": [
        "x = 3\n",
        "print(x, type(x))\n"
      ],
      "metadata": {
        "colab": {
          "base_uri": "https://localhost:8080/"
        },
        "id": "QHiWozTHg1Cq",
        "outputId": "19fc02a8-63e2-4099-b7f9-2a6bea676c71"
      },
      "execution_count": 4,
      "outputs": [
        {
          "output_type": "stream",
          "name": "stdout",
          "text": [
            "3 <class 'int'>\n"
          ]
        }
      ]
    },
    {
      "cell_type": "code",
      "source": [
        "n=int(input('Enter The Number : '))\n",
        "if n%2 == 0:\n",
        "  print(n, 'is Even Number')\n",
        "else :\n",
        "  print(n, 'is Odd Number')"
      ],
      "metadata": {
        "colab": {
          "base_uri": "https://localhost:8080/"
        },
        "id": "5k2_vVFqhTQm",
        "outputId": "64f140ea-f992-41df-ac1d-328badc7775f"
      },
      "execution_count": 2,
      "outputs": [
        {
          "output_type": "stream",
          "name": "stdout",
          "text": [
            "Enter The Number : 5\n",
            "5 Is Odd Number\n"
          ]
        }
      ]
    },
    {
      "cell_type": "code",
      "source": [
        "name=input('Enter your Name : ')\n",
        "age=int(input('Enter Your Age : '))\n",
        "if age >= 18:\n",
        "  print(name, 'Age is', age, 'Eligible for Vote.')\n",
        "else:\n",
        "  print(name, 'age is', age, 'Not Eligible for Vote.')"
      ],
      "metadata": {
        "colab": {
          "base_uri": "https://localhost:8080/"
        },
        "id": "CYaWFO9w8iMh",
        "outputId": "7032f962-a2d7-4c33-965e-bf2640a3534f"
      },
      "execution_count": 3,
      "outputs": [
        {
          "output_type": "stream",
          "name": "stdout",
          "text": [
            "Enter your Name : sharvin\n",
            "Enter Your Age : 22\n",
            "sharvin Age is 22 Eligible for Vote.\n"
          ]
        }
      ]
    },
    {
      "cell_type": "code",
      "source": [
        "days=int(input('Enter the Days : '))\n",
        "if(days==0):\n",
        "  print('Good No Fine')\n",
        "elif(days>=1 and days<=5):\n",
        "  print('Fine Amount : ', days*0.5)\n",
        "elif(days> 5 and days<=10):\n",
        "  print('Fine Amount : ', days*1)\n",
        "elif(days> 10 and days<=30):\n",
        "  print('Fine Amount : ', days*5)\n",
        "else:\n",
        "  print('Membership Cancel')"
      ],
      "metadata": {
        "colab": {
          "base_uri": "https://localhost:8080/"
        },
        "id": "095pabb-9rf_",
        "outputId": "0f9f206f-030f-48dd-bd0c-4b2e208be261"
      },
      "execution_count": 5,
      "outputs": [
        {
          "output_type": "stream",
          "name": "stdout",
          "text": [
            "Enter the Days : 4\n",
            "Membership Cancel\n"
          ]
        }
      ]
    },
    {
      "cell_type": "code",
      "source": [
        "m1=int(input('Enter Mark 1 : '))\n",
        "m2=int(input('Enter Mark 2 : '))\n",
        "m3=int(input('Enter Mark 3 : '))\n",
        "total=m1+m2+m3\n",
        "average=total/3.0\n",
        "print('Total   : ',total)\n",
        "print('Average : ',average)\n",
        "if m1>= 35 and m2>=35 and m3>=35:\n",
        "  print('Result : Pass')\n",
        "  if average>=90 and average<=100:\n",
        "    print('Grade : A')\n",
        "  if average>=80 and average<=89:\n",
        "    print('Grade : B')\n",
        "  if average>=70 and average<=79:\n",
        "    print('Grade : C')\n",
        "  else:\n",
        "    print('Grade : D')\n",
        "else:\n",
        "  print('Result : Fail')\n",
        "  print('Grade  : No Grade')\n"
      ],
      "metadata": {
        "colab": {
          "base_uri": "https://localhost:8080/"
        },
        "id": "IaJgcjZA_nqa",
        "outputId": "7a744e01-6f9b-43d1-fa2a-a23195b9e832"
      },
      "execution_count": 6,
      "outputs": [
        {
          "output_type": "stream",
          "name": "stdout",
          "text": [
            "Enter Mark 1 : 45\n",
            "Enter Mark 2 : 76\n",
            "Enter Mark 3 : 55\n",
            "Total   :  176\n",
            "Average :  58.666666666666664\n",
            "Result : Pass\n",
            "Grade : D\n"
          ]
        }
      ]
    },
    {
      "cell_type": "code",
      "source": [],
      "metadata": {
        "id": "Poq5usQpBx8A"
      },
      "execution_count": null,
      "outputs": []
    }
  ]
}